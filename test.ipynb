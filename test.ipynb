{
 "cells": [
  {
   "cell_type": "code",
   "execution_count": 1,
   "id": "f394bb66",
   "metadata": {},
   "outputs": [],
   "source": [
    "import pandas as pd\n",
    "from templates import *\n",
    "from builder import *"
   ]
  },
  {
   "cell_type": "code",
   "execution_count": 2,
   "id": "176d7e8c",
   "metadata": {},
   "outputs": [],
   "source": [
    "job_file = './data/experience.csv'\n",
    "skill_file = './data/skills.csv'\n",
    "basic_info = './data/basic_info.csv'"
   ]
  },
  {
   "cell_type": "code",
   "execution_count": 3,
   "id": "5407bb91",
   "metadata": {
    "scrolled": true
   },
   "outputs": [
    {
     "name": "stdout",
     "output_type": "stream",
     "text": [
      "{'Programming Skills': ['Python', 'Javascript', 'MATLAB', 'Powershell', 'C++'], 'Technical Skills': ['Machine Learning', 'NLP', 'Pattern Recognition', 'Digital Forensics', 'Web Development']}\n",
      "{'work': {'Health Partner Plans': {'location': 'Philadelphia, PA', 'title': 'Privacy and Security Intern', 'date': 'April 2019 - December 2019', 'detail': ['Managed data access through company governance software', 'Automated daily computer activity reports with Powershell to improve efficiency', 'Collaborated with IT Staff to promote cybersecurity and role governance within company']}}, 'projects': {'Interview Bot': {'date': 'July 2022 - present', 'detail': ['Developed an interactive FAQ bot to respond to commonly asked interview questions', 'Built a database that consists of over 100 interview questions', 'Created using sci-kit learn and spaCY (natural language processing toolkit)']}, 'Blog / rayyungdev.github.io': {'date': 'July 2022 - present', 'detail': ['Designed and created a personal site from scratch to as a means to learn React and showcase personal projects', 'Built using Gatsby as a static site generator that is now hosted on GitHub']}, 'Resume Builder': {'date': 'July 2022 - present', 'detail': ['Developed a resume building application that can build different resumes that depend on purpose', 'Created multiple databases to organize and pull relevant job information', 'Utilized Object Oriented Programming to create a data interpreter and a resume template']}, 'DialogRPT / NLP with Deep Learning': {'date': 'March 2022 - June 2022', 'detail': ['Built deep learning models to predict engagingness of dialog responses based on reddit data', 'Implemented CNN and LSTM architecture and achieved comparable score with literature', 'Set up virtual desktops using AWS']}, 'Predicting Social Vulnerability': {'date': 'March 2022 - June 2022', 'detail': ['Used binary classification techniques to predict how vulnerable a household is', 'Implemented logistic regression and NaÃ¯ve Bayes algorithms from scratch', 'Strategized with team to better understand how to preprocess social vulnerability data']}, 'Cell Segmentation and Tracking Algorithm': {'date': 'September 2020 - April 2021', 'detail': ['Optimized thresholds for phase contrast algorithm leading to more accurate cell tracking scores', 'Worked with large datasets containing cell images, Led to competitive submission for the Cell Tracking Challenge', 'Used cell tracking and segmentation software created by Dr. Andrew Cohen']}}}\n"
     ]
    }
   ],
   "source": [
    "fname = './data/data.yaml'\n",
    "test = yaml_builder(fname)\n",
    "template = template_basic()\n",
    "keys = ['programming']\n",
    "output = 'test.pdf'\n",
    "test.build_resume(template, keys = keys, output = output)"
   ]
  },
  {
   "cell_type": "code",
   "execution_count": 4,
   "id": "3ed22fe1",
   "metadata": {},
   "outputs": [
    {
     "data": {
      "text/plain": [
       "{'work': {'Health Partner Plans': {'location': 'Philadelphia, PA',\n",
       "   'title': 'Privacy and Security Intern',\n",
       "   'date': 'April 2019 - December 2019',\n",
       "   'detail': ['Managed data access through company governance software',\n",
       "    'Automated daily computer activity reports with Powershell to improve efficiency',\n",
       "    'Collaborated with IT Staff to promote cybersecurity and role governance within company']}},\n",
       " 'projects': {'Interview Bot': {'date': 'July 2022 - present',\n",
       "   'detail': ['Developed an interactive FAQ bot to respond to commonly asked interview questions',\n",
       "    'Built a database that consists of over 100 interview questions',\n",
       "    'Created using sci-kit learn and spaCY (natural language processing toolkit)']},\n",
       "  'Blog / rayyungdev.github.io': {'date': 'July 2022 - present',\n",
       "   'detail': ['Designed and created a personal site from scratch to as a means to learn React and showcase personal projects',\n",
       "    'Built using Gatsby as a static site generator that is now hosted on GitHub']},\n",
       "  'Resume Builder': {'date': 'July 2022 - present',\n",
       "   'detail': ['Developed a resume building application that can build different resumes that depend on purpose',\n",
       "    'Created multiple databases to organize and pull relevant job information',\n",
       "    'Utilized Object Oriented Programming to create a data interpreter and a resume template']},\n",
       "  'DialogRPT / NLP with Deep Learning': {'date': 'March 2022 - June 2022',\n",
       "   'detail': ['Built deep learning models to predict engagingness of dialog responses based on reddit data',\n",
       "    'Implemented CNN and LSTM architecture and achieved comparable score with literature',\n",
       "    'Set up virtual desktops using AWS']},\n",
       "  'Predicting Social Vulnerability': {'date': 'March 2022 - June 2022',\n",
       "   'detail': ['Used binary classification techniques to predict how vulnerable a household is',\n",
       "    'Implemented logistic regression and NaÃ¯ve Bayes algorithms from scratch',\n",
       "    'Strategized with team to better understand how to preprocess social vulnerability data']},\n",
       "  'Cell Segmentation and Tracking Algorithm': {'date': 'September 2020 - April 2021',\n",
       "   'detail': ['Optimized thresholds for phase contrast algorithm leading to more accurate cell tracking scores',\n",
       "    'Worked with large datasets containing cell images, Led to competitive submission for the Cell Tracking Challenge',\n",
       "    'Used cell tracking and segmentation software created by Dr. Andrew Cohen']}}}"
      ]
     },
     "execution_count": 4,
     "metadata": {},
     "output_type": "execute_result"
    }
   ],
   "source": [
    "test.build_experiences(keys)"
   ]
  },
  {
   "cell_type": "code",
   "execution_count": 5,
   "id": "024da4d9",
   "metadata": {},
   "outputs": [],
   "source": [
    "template = template_basic()\n",
    "resume = resume_builder(job_file, skill_file, basic_info)"
   ]
  },
  {
   "cell_type": "code",
   "execution_count": 6,
   "id": "405ad724",
   "metadata": {},
   "outputs": [
    {
     "data": {
      "text/html": [
       "<div>\n",
       "<style scoped>\n",
       "    .dataframe tbody tr th:only-of-type {\n",
       "        vertical-align: middle;\n",
       "    }\n",
       "\n",
       "    .dataframe tbody tr th {\n",
       "        vertical-align: top;\n",
       "    }\n",
       "\n",
       "    .dataframe thead th {\n",
       "        text-align: right;\n",
       "    }\n",
       "</style>\n",
       "<table border=\"1\" class=\"dataframe\">\n",
       "  <thead>\n",
       "    <tr style=\"text-align: right;\">\n",
       "      <th></th>\n",
       "      <th>type</th>\n",
       "      <th>tags</th>\n",
       "      <th>skills</th>\n",
       "      <th>start</th>\n",
       "      <th>end</th>\n",
       "      <th>title</th>\n",
       "      <th>company</th>\n",
       "      <th>location</th>\n",
       "      <th>detail</th>\n",
       "    </tr>\n",
       "  </thead>\n",
       "  <tbody>\n",
       "    <tr>\n",
       "      <th>5</th>\n",
       "      <td>P</td>\n",
       "      <td>[machine learning, software development, pytho...</td>\n",
       "      <td>Python, scikit-learn, Natural Language Processing</td>\n",
       "      <td>2022-07-01</td>\n",
       "      <td>NaT</td>\n",
       "      <td>Interview Bot</td>\n",
       "      <td>NaN</td>\n",
       "      <td>NaN</td>\n",
       "      <td>[Developed an interactive FAQ bot to respond t...</td>\n",
       "    </tr>\n",
       "    <tr>\n",
       "      <th>6</th>\n",
       "      <td>P</td>\n",
       "      <td>[programming, web development, technology, jav...</td>\n",
       "      <td>React, Gatsby, Web development</td>\n",
       "      <td>2022-07-01</td>\n",
       "      <td>NaT</td>\n",
       "      <td>Blog / rayyungdev.github.io</td>\n",
       "      <td>NaN</td>\n",
       "      <td>NaN</td>\n",
       "      <td>[Designed and created a personal site from scr...</td>\n",
       "    </tr>\n",
       "    <tr>\n",
       "      <th>7</th>\n",
       "      <td>P</td>\n",
       "      <td>[software development, programming, python, pa...</td>\n",
       "      <td>Python, Object Oriented Programming, Database</td>\n",
       "      <td>2022-07-01</td>\n",
       "      <td>2022-08-01</td>\n",
       "      <td>Resume Builder</td>\n",
       "      <td>NaN</td>\n",
       "      <td>NaN</td>\n",
       "      <td>[Developed a resume building application that ...</td>\n",
       "    </tr>\n",
       "    <tr>\n",
       "      <th>0</th>\n",
       "      <td>P</td>\n",
       "      <td>[machine learning, software development, data ...</td>\n",
       "      <td>Pytorch, Deep Learning, AWS</td>\n",
       "      <td>2022-03-01</td>\n",
       "      <td>2022-06-01</td>\n",
       "      <td>DialogRPT / NLP with Deep Learning</td>\n",
       "      <td>NaN</td>\n",
       "      <td>NaN</td>\n",
       "      <td>[Built deep learning models to predict engagin...</td>\n",
       "    </tr>\n",
       "    <tr>\n",
       "      <th>2</th>\n",
       "      <td>P</td>\n",
       "      <td>[machine learning, software development, data ...</td>\n",
       "      <td>Python, Machine Learning</td>\n",
       "      <td>2022-03-01</td>\n",
       "      <td>2022-06-01</td>\n",
       "      <td>Predicting Social Vulnerability</td>\n",
       "      <td>NaN</td>\n",
       "      <td>NaN</td>\n",
       "      <td>[Used binary classification techniques to pred...</td>\n",
       "    </tr>\n",
       "    <tr>\n",
       "      <th>3</th>\n",
       "      <td>P</td>\n",
       "      <td>[machine learning, software development, matla...</td>\n",
       "      <td>MATLAB, Image Processing</td>\n",
       "      <td>2020-09-01</td>\n",
       "      <td>2021-04-01</td>\n",
       "      <td>Cell Segmentation and Tracking Algorithm</td>\n",
       "      <td>NaN</td>\n",
       "      <td>NaN</td>\n",
       "      <td>[Optimized thresholds for phase contrast algor...</td>\n",
       "    </tr>\n",
       "    <tr>\n",
       "      <th>1</th>\n",
       "      <td>J</td>\n",
       "      <td>[IT, security, programming, technology]</td>\n",
       "      <td>NaN</td>\n",
       "      <td>2019-04-01</td>\n",
       "      <td>2020-12-01</td>\n",
       "      <td>Privacy and Security Intern</td>\n",
       "      <td>Health Partner Plans</td>\n",
       "      <td>Philadelphia, PA</td>\n",
       "      <td>[Managed data access through company governanc...</td>\n",
       "    </tr>\n",
       "    <tr>\n",
       "      <th>4</th>\n",
       "      <td>J</td>\n",
       "      <td>[IT, security, technology]</td>\n",
       "      <td>Active Directory, Data Management</td>\n",
       "      <td>2018-03-01</td>\n",
       "      <td>2020-09-01</td>\n",
       "      <td>Information Technology</td>\n",
       "      <td>Drexel University</td>\n",
       "      <td>Philadelphia, PA</td>\n",
       "      <td>[Assisted users with personable expertise to t...</td>\n",
       "    </tr>\n",
       "  </tbody>\n",
       "</table>\n",
       "</div>"
      ],
      "text/plain": [
       "  type                                               tags  \\\n",
       "5    P  [machine learning, software development, pytho...   \n",
       "6    P  [programming, web development, technology, jav...   \n",
       "7    P  [software development, programming, python, pa...   \n",
       "0    P  [machine learning, software development, data ...   \n",
       "2    P  [machine learning, software development, data ...   \n",
       "3    P  [machine learning, software development, matla...   \n",
       "1    J            [IT, security, programming, technology]   \n",
       "4    J                         [IT, security, technology]   \n",
       "\n",
       "                                              skills      start        end  \\\n",
       "5  Python, scikit-learn, Natural Language Processing 2022-07-01        NaT   \n",
       "6                     React, Gatsby, Web development 2022-07-01        NaT   \n",
       "7      Python, Object Oriented Programming, Database 2022-07-01 2022-08-01   \n",
       "0                        Pytorch, Deep Learning, AWS 2022-03-01 2022-06-01   \n",
       "2                           Python, Machine Learning 2022-03-01 2022-06-01   \n",
       "3                           MATLAB, Image Processing 2020-09-01 2021-04-01   \n",
       "1                                                NaN 2019-04-01 2020-12-01   \n",
       "4                  Active Directory, Data Management 2018-03-01 2020-09-01   \n",
       "\n",
       "                                      title               company  \\\n",
       "5                             Interview Bot                   NaN   \n",
       "6               Blog / rayyungdev.github.io                   NaN   \n",
       "7                            Resume Builder                   NaN   \n",
       "0        DialogRPT / NLP with Deep Learning                   NaN   \n",
       "2           Predicting Social Vulnerability                   NaN   \n",
       "3  Cell Segmentation and Tracking Algorithm                   NaN   \n",
       "1               Privacy and Security Intern  Health Partner Plans   \n",
       "4                    Information Technology     Drexel University   \n",
       "\n",
       "           location                                             detail  \n",
       "5               NaN  [Developed an interactive FAQ bot to respond t...  \n",
       "6               NaN  [Designed and created a personal site from scr...  \n",
       "7               NaN  [Developed a resume building application that ...  \n",
       "0               NaN  [Built deep learning models to predict engagin...  \n",
       "2               NaN  [Used binary classification techniques to pred...  \n",
       "3               NaN  [Optimized thresholds for phase contrast algor...  \n",
       "1  Philadelphia, PA  [Managed data access through company governanc...  \n",
       "4  Philadelphia, PA  [Assisted users with personable expertise to t...  "
      ]
     },
     "execution_count": 6,
     "metadata": {},
     "output_type": "execute_result"
    }
   ],
   "source": [
    "resume.jobs"
   ]
  },
  {
   "cell_type": "code",
   "execution_count": null,
   "id": "e60cd355",
   "metadata": {},
   "outputs": [],
   "source": []
  }
 ],
 "metadata": {
  "kernelspec": {
   "display_name": "Python 3",
   "language": "python",
   "name": "python3"
  },
  "language_info": {
   "codemirror_mode": {
    "name": "ipython",
    "version": 3
   },
   "file_extension": ".py",
   "mimetype": "text/x-python",
   "name": "python",
   "nbconvert_exporter": "python",
   "pygments_lexer": "ipython3",
   "version": "3.6.6"
  },
  "vscode": {
   "interpreter": {
    "hash": "e7564469c8b26b39866595c76efcae2f8e36e7fe62c03afb47eee6e0f161a9f7"
   }
  }
 },
 "nbformat": 4,
 "nbformat_minor": 5
}

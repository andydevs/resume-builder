{
 "cells": [
  {
   "cell_type": "code",
   "execution_count": 1,
   "id": "f394bb66",
   "metadata": {},
   "outputs": [],
   "source": [
    "import pandas as pd\n",
    "from templates import *\n",
    "from builder import *"
   ]
  },
  {
   "cell_type": "code",
   "execution_count": 2,
   "id": "176d7e8c",
   "metadata": {},
   "outputs": [],
   "source": [
    "job_file = './data/experience.csv'\n",
    "skill_file = './data/skills.csv'\n",
    "basic_info = './data/basic_info.csv'"
   ]
  },
  {
   "cell_type": "code",
   "execution_count": 3,
   "id": "5407bb91",
   "metadata": {
    "scrolled": false
   },
   "outputs": [],
   "source": [
    "fname = './data/data.yaml'\n",
    "test = yaml_builder(fname)\n",
    "template = template_basic()\n",
    "keys = ['programming']\n",
    "output = 'test.pdf'"
   ]
  },
  {
   "cell_type": "code",
   "execution_count": 3,
   "id": "b8b5dc64",
   "metadata": {},
   "outputs": [
    {
     "data": {
      "text/plain": [
       "['', '', 'hello', '', ' my name is']"
      ]
     },
     "execution_count": 3,
     "metadata": {},
     "output_type": "execute_result"
    }
   ],
   "source": [
    "f = '**hello** my name is'\n",
    "\n",
    "f.split('*')"
   ]
  },
  {
   "cell_type": "code",
   "execution_count": null,
   "id": "5ec43c03",
   "metadata": {},
   "outputs": [],
   "source": []
  }
 ],
 "metadata": {
  "kernelspec": {
   "display_name": "Python 3",
   "language": "python",
   "name": "python3"
  },
  "language_info": {
   "codemirror_mode": {
    "name": "ipython",
    "version": 3
   },
   "file_extension": ".py",
   "mimetype": "text/x-python",
   "name": "python",
   "nbconvert_exporter": "python",
   "pygments_lexer": "ipython3",
   "version": "3.6.6"
  },
  "vscode": {
   "interpreter": {
    "hash": "e7564469c8b26b39866595c76efcae2f8e36e7fe62c03afb47eee6e0f161a9f7"
   }
  }
 },
 "nbformat": 4,
 "nbformat_minor": 5
}

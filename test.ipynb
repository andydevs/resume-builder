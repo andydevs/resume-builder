{
 "cells": [
  {
   "cell_type": "code",
   "execution_count": 1,
   "id": "f394bb66",
   "metadata": {},
   "outputs": [],
   "source": [
    "import pandas as pd"
   ]
  },
  {
   "cell_type": "code",
   "execution_count": 96,
   "id": "176d7e8c",
   "metadata": {},
   "outputs": [],
   "source": [
    "job_file = 'experience.csv'\n",
    "skill_file = 'skills.csv'\n",
    "language_file = 'languages.csv'\n",
    "basic_info = 'basic_info.csv'"
   ]
  },
  {
   "cell_type": "code",
   "execution_count": 103,
   "id": "f5181d9d",
   "metadata": {},
   "outputs": [],
   "source": [
    "month = {\n",
    "    1 : 'January', 2 : 'February', 3 : 'March', 4 : 'April', 5 : 'May', 6 : 'June', 7 : 'July', 8 : 'August', 9 : 'September', 10 : 'October', 11 : 'November',12 : 'December'    \n",
    "}\n",
    "\n",
    "class resume_builder:\n",
    "    def __init__(self, fjobs, fskills, flanguage, basic_info):\n",
    "        self.jobs = pd.read_csv(fjobs)\n",
    "        self.jobs['start'] = pd.to_datetime(self.jobs['start'])\n",
    "        self.jobs['end'] = pd.to_datetime(self.jobs['end'])\n",
    "        self.jobs = self.jobs.sort_values('start', ascending = False)\n",
    "        self.jobs = self.jobs\n",
    "        self.jobs.tags = self.jobs.tags.apply(lambda x: x.split(', '))\n",
    "        self.jobs.detail = self.jobs.detail.apply(lambda x: x.split(', '))\n",
    "        \n",
    "        self.skills = pd.read_csv(fskills)\n",
    "        for col in self.skills.columns:\n",
    "            self.skills[col] = self.skills[col].apply(lambda x: str(x).split(', '))\n",
    "\n",
    "        self.language = pd.read_csv(flanguage)\n",
    "        for col in self.language.columns:\n",
    "            self.language[col] = self.language[col].apply(lambda x: str(x).split(', '))\n",
    "\n",
    "        self.basic = pd.read_csv(basic_info)\n",
    "        self.basic.edu_1 = self.basic.edu_1.apply(lambda x:str(x).split('/ '))\n",
    "        self.basic.edu_2 = self.basic.edu_2.apply(lambda x:str(x).split('/ '))\n",
    "\n",
    "\n",
    "    def build_experience(self, tags, max_list = 5):\n",
    "        '''\n",
    "            we'll use this section to build our experience section in the resume\n",
    "        '''\n",
    "        \n",
    "        # Choose all experience that contains at least 1 of the listed tags\n",
    "        job_lookup = self.jobs[self.jobs.tags.apply(lambda x: any(k in x for k in tags))]\n",
    "        \n",
    "        company_list = job_lookup[job_lookup.type == 'J'].company.to_list()\n",
    "        experience = dict()\n",
    "        work = dict() #will get put in experience later        \n",
    "        count = 1\n",
    "        for company in company_list:\n",
    "            if count > max_list :\n",
    "                experience.update({'work': work})\n",
    "                return experience\n",
    "            \n",
    "            count += 1\n",
    "            row = job_lookup[job_lookup.company == company]\n",
    "            start_date = month[pd.to_datetime(row.start).dt.month.astype(int).item()] + ' ' + pd.to_datetime(row.start).dt.year.astype(str).item()\n",
    "            end_date = month[pd.to_datetime(row.end).dt.month.astype(int).item()] + ' ' + pd.to_datetime(row.end).dt.year.astype(str).item()\n",
    "            \n",
    "            work[company] = {\n",
    "                'location' : row.location.item(), \n",
    "                'title' : row.title.item(), \n",
    "                'date' : start_date + '-' + end_date,\n",
    "                'detail' : row.detail.item()\n",
    "            }\n",
    "            \n",
    "        experience['work'] = work\n",
    "        projects = dict() #will get put in experience later\n",
    "        project_list = job_lookup[job_lookup.type == 'P'].title.to_list()\n",
    "\n",
    "        for project in project_list:\n",
    "            if count > max_list : \n",
    "                 break\n",
    "            count +=1\n",
    "            row = job_lookup[job_lookup.title == project]\n",
    "            start_date = month[pd.to_datetime(row.start).dt.month.astype(int).item()] + ' ' + pd.to_datetime(row.start).dt.year.astype(str).item()\n",
    "            try:\n",
    "                end_date = month[pd.to_datetime(row.end).dt.month.astype(int).item()] + ' ' + pd.to_datetime(row.end).dt.year.astype(str).item()\n",
    "            except: \n",
    "                end_date = \"Ongoing\"\n",
    "            projects[project] = {\n",
    "                'date' : start_date + '-' + end_date,\n",
    "                'detail' : row.detail.item()\n",
    "            }\n",
    "        experience['projects'] = projects\n",
    "        return experience\n",
    "                \n",
    "    def build_skills(self, max_list = 5):\n",
    "        ## May implement some classification algorithm in the future\n",
    "        skills = dict()\n",
    "        for col in self.skills.columns:\n",
    "            if self.skills[col].item()[0] == 'None':\n",
    "                continue\n",
    "            skills[col] = self.skills[col].item()\n",
    "        return skills\n",
    "    \n",
    "    def build_resume(self, template, keys, intro, max_list = 5):\n",
    "        pass"
   ]
  },
  {
   "cell_type": "code",
   "execution_count": 104,
   "id": "5407bb91",
   "metadata": {
    "scrolled": true
   },
   "outputs": [],
   "source": [
    "resume = resume_builder(job_file, skill_file, language_file, basic_info)\n",
    "experience = resume.build_experience(['machine learning', 'programming'])"
   ]
  },
  {
   "cell_type": "code",
   "execution_count": 108,
   "id": "386363bc",
   "metadata": {},
   "outputs": [
    {
     "data": {
      "text/plain": [
       "'Masters of Science in Electrical Engineering'"
      ]
     },
     "execution_count": 108,
     "metadata": {},
     "output_type": "execute_result"
    }
   ],
   "source": [
    "resume.basic.edu_1.item()[0]"
   ]
  },
  {
   "cell_type": "code",
   "execution_count": null,
   "id": "149357a4",
   "metadata": {},
   "outputs": [],
   "source": []
  }
 ],
 "metadata": {
  "kernelspec": {
   "display_name": "Python 3",
   "language": "python",
   "name": "python3"
  },
  "language_info": {
   "codemirror_mode": {
    "name": "ipython",
    "version": 3
   },
   "file_extension": ".py",
   "mimetype": "text/x-python",
   "name": "python",
   "nbconvert_exporter": "python",
   "pygments_lexer": "ipython3",
   "version": "3.6.6"
  }
 },
 "nbformat": 4,
 "nbformat_minor": 5
}
